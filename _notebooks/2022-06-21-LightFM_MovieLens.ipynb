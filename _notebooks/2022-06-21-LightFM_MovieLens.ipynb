{
 "cells": [
  {
   "cell_type": "markdown",
   "id": "95849745",
   "metadata": {},
   "source": [
    "# MovieLense\n",
    "> test Jupyter notebooks.\n",
    "- toc: true \n",
    "- badges: true\n",
    "- comments: true\n",
    "- categories: [jupyter]\n",
    "- image: images/chart-preview.png\n",
    "\n",
    "# 1. 데이터 불러오기"
   ]
  },
  {
   "cell_type": "code",
   "execution_count": 2,
   "id": "30d55c6e",
   "metadata": {
    "scrolled": true
   },
   "outputs": [
    {
     "name": "stderr",
     "output_type": "stream",
     "text": [
      "/var/folders/_2/9zwdysb90f1_vz3zpxqvhg5r0000gn/T/ipykernel_15117/2007681553.py:8: ParserWarning: Falling back to the 'python' engine because the 'c' engine does not support regex separators (separators > 1 char and different from '\\s+' are interpreted as regex); you can avoid this warning by specifying engine='python'.\n",
      "  ratings = pd.read_csv('/Users/nhn/Desktop/1_dev/0_aiengine/4_data/ml-1m/ratings.dat',sep=\"::\",\n",
      "/var/folders/_2/9zwdysb90f1_vz3zpxqvhg5r0000gn/T/ipykernel_15117/2007681553.py:12: ParserWarning: Falling back to the 'python' engine because the 'c' engine does not support regex separators (separators > 1 char and different from '\\s+' are interpreted as regex); you can avoid this warning by specifying engine='python'.\n",
      "  movies = pd.read_csv('/Users/nhn/Desktop/1_dev/0_aiengine/4_data/ml-1m/movies.dat',sep=\"::\",\n"
     ]
    }
   ],
   "source": [
    "# !pip3 install lightfm\n",
    "import pandas as pd\n",
    "import numpy as np\n",
    "from lightfm.data import Dataset\n",
    "from scipy.io import mmwrite\n",
    "\n",
    "# Data Load\n",
    "ratings = pd.read_csv('/Users/nhn/Desktop/1_dev/0_aiengine/4_data/ml-1m/ratings.dat',sep=\"::\",\n",
    "                      names=['UserID','MovieID','Rating','Timestamp'], header=None\n",
    ")\n",
    "\n",
    "movies = pd.read_csv('/Users/nhn/Desktop/1_dev/0_aiengine/4_data/ml-1m/movies.dat',sep=\"::\",\n",
    "                      names=['MovieID','Title','Genres'], header=None, encoding='unicode_escape'\n",
    ")"
   ]
  },
  {
   "cell_type": "markdown",
   "id": "88d7def4",
   "metadata": {},
   "source": [
    "RATINGS FILE DESCRIPTION\n",
    "================================================================================\n",
    "\n",
    "All ratings are contained in the file \"ratings.dat\" and are in the\n",
    "following format:\n",
    "\n",
    "UserID::MovieID::Rating::Timestamp\n",
    "\n",
    "- UserIDs range between 1 and 6040 \n",
    "- MovieIDs range between 1 and 3952\n",
    "- Ratings are made on a 5-star scale (whole-star ratings only)\n",
    "- Timestamp is represented in seconds since the epoch as returned by time(2)\n",
    "- Each user has at least 20 ratings"
   ]
  },
  {
   "cell_type": "code",
   "execution_count": 3,
   "id": "fb73a141",
   "metadata": {
    "scrolled": true
   },
   "outputs": [
    {
     "name": "stdout",
     "output_type": "stream",
     "text": [
      "1000209\n"
     ]
    },
    {
     "data": {
      "text/html": [
       "<div>\n",
       "<style scoped>\n",
       "    .dataframe tbody tr th:only-of-type {\n",
       "        vertical-align: middle;\n",
       "    }\n",
       "\n",
       "    .dataframe tbody tr th {\n",
       "        vertical-align: top;\n",
       "    }\n",
       "\n",
       "    .dataframe thead th {\n",
       "        text-align: right;\n",
       "    }\n",
       "</style>\n",
       "<table border=\"1\" class=\"dataframe\">\n",
       "  <thead>\n",
       "    <tr style=\"text-align: right;\">\n",
       "      <th></th>\n",
       "      <th>UserID</th>\n",
       "      <th>MovieID</th>\n",
       "      <th>Rating</th>\n",
       "      <th>Timestamp</th>\n",
       "    </tr>\n",
       "  </thead>\n",
       "  <tbody>\n",
       "    <tr>\n",
       "      <th>0</th>\n",
       "      <td>1</td>\n",
       "      <td>1193</td>\n",
       "      <td>5</td>\n",
       "      <td>978300760</td>\n",
       "    </tr>\n",
       "    <tr>\n",
       "      <th>1</th>\n",
       "      <td>1</td>\n",
       "      <td>661</td>\n",
       "      <td>3</td>\n",
       "      <td>978302109</td>\n",
       "    </tr>\n",
       "    <tr>\n",
       "      <th>2</th>\n",
       "      <td>1</td>\n",
       "      <td>914</td>\n",
       "      <td>3</td>\n",
       "      <td>978301968</td>\n",
       "    </tr>\n",
       "    <tr>\n",
       "      <th>3</th>\n",
       "      <td>1</td>\n",
       "      <td>3408</td>\n",
       "      <td>4</td>\n",
       "      <td>978300275</td>\n",
       "    </tr>\n",
       "    <tr>\n",
       "      <th>4</th>\n",
       "      <td>1</td>\n",
       "      <td>2355</td>\n",
       "      <td>5</td>\n",
       "      <td>978824291</td>\n",
       "    </tr>\n",
       "  </tbody>\n",
       "</table>\n",
       "</div>"
      ],
      "text/plain": [
       "   UserID  MovieID  Rating  Timestamp\n",
       "0       1     1193       5  978300760\n",
       "1       1      661       3  978302109\n",
       "2       1      914       3  978301968\n",
       "3       1     3408       4  978300275\n",
       "4       1     2355       5  978824291"
      ]
     },
     "execution_count": 3,
     "metadata": {},
     "output_type": "execute_result"
    }
   ],
   "source": [
    "print(ratings.count()[0])\n",
    "ratings.head()"
   ]
  },
  {
   "cell_type": "markdown",
   "id": "4cc83d5c",
   "metadata": {},
   "source": [
    "MOVIES FILE DESCRIPTION\n",
    "================================================================================\n",
    "\n",
    "Movie information is in the file \"movies.dat\" and is in the following\n",
    "format:\n",
    "\n",
    "MovieID::Title::Genres\n",
    "\n",
    "- Titles are identical to titles provided by the IMDB (including\n",
    "year of release)\n",
    "- Genres are pipe-separated and are selected from the following genres:\n",
    "\n",
    "\t* Action\n",
    "\t* Adventure\n",
    "\t* Animation\n",
    "\t* Children's\n",
    "\t* Comedy\n",
    "\t* Crime\n",
    "\t* Documentary\n",
    "\t* Drama\n",
    "\t* Fantasy\n",
    "\t* Film-Noir\n",
    "\t* Horror\n",
    "\t* Musical\n",
    "\t* Mystery\n",
    "\t* Romance\n",
    "\t* Sci-Fi\n",
    "\t* Thriller\n",
    "\t* War\n",
    "\t* Western\n",
    "\n",
    "- Some MovieIDs do not correspond to a movie due to accidental duplicate\n",
    "entries and/or test entries\n",
    "- Movies are mostly entered by hand, so errors and inconsistencies may exist"
   ]
  },
  {
   "cell_type": "code",
   "execution_count": 4,
   "id": "928573fc",
   "metadata": {},
   "outputs": [
    {
     "name": "stdout",
     "output_type": "stream",
     "text": [
      "3883\n"
     ]
    },
    {
     "data": {
      "text/html": [
       "<div>\n",
       "<style scoped>\n",
       "    .dataframe tbody tr th:only-of-type {\n",
       "        vertical-align: middle;\n",
       "    }\n",
       "\n",
       "    .dataframe tbody tr th {\n",
       "        vertical-align: top;\n",
       "    }\n",
       "\n",
       "    .dataframe thead th {\n",
       "        text-align: right;\n",
       "    }\n",
       "</style>\n",
       "<table border=\"1\" class=\"dataframe\">\n",
       "  <thead>\n",
       "    <tr style=\"text-align: right;\">\n",
       "      <th></th>\n",
       "      <th>MovieID</th>\n",
       "      <th>Title</th>\n",
       "      <th>Genres</th>\n",
       "    </tr>\n",
       "  </thead>\n",
       "  <tbody>\n",
       "    <tr>\n",
       "      <th>0</th>\n",
       "      <td>1</td>\n",
       "      <td>Toy Story (1995)</td>\n",
       "      <td>Animation|Children's|Comedy</td>\n",
       "    </tr>\n",
       "    <tr>\n",
       "      <th>1</th>\n",
       "      <td>2</td>\n",
       "      <td>Jumanji (1995)</td>\n",
       "      <td>Adventure|Children's|Fantasy</td>\n",
       "    </tr>\n",
       "    <tr>\n",
       "      <th>2</th>\n",
       "      <td>3</td>\n",
       "      <td>Grumpier Old Men (1995)</td>\n",
       "      <td>Comedy|Romance</td>\n",
       "    </tr>\n",
       "    <tr>\n",
       "      <th>3</th>\n",
       "      <td>4</td>\n",
       "      <td>Waiting to Exhale (1995)</td>\n",
       "      <td>Comedy|Drama</td>\n",
       "    </tr>\n",
       "    <tr>\n",
       "      <th>4</th>\n",
       "      <td>5</td>\n",
       "      <td>Father of the Bride Part II (1995)</td>\n",
       "      <td>Comedy</td>\n",
       "    </tr>\n",
       "  </tbody>\n",
       "</table>\n",
       "</div>"
      ],
      "text/plain": [
       "   MovieID                               Title                        Genres\n",
       "0        1                    Toy Story (1995)   Animation|Children's|Comedy\n",
       "1        2                      Jumanji (1995)  Adventure|Children's|Fantasy\n",
       "2        3             Grumpier Old Men (1995)                Comedy|Romance\n",
       "3        4            Waiting to Exhale (1995)                  Comedy|Drama\n",
       "4        5  Father of the Bride Part II (1995)                        Comedy"
      ]
     },
     "execution_count": 4,
     "metadata": {},
     "output_type": "execute_result"
    }
   ],
   "source": [
    "print(movies.count()[0])\n",
    "movies.head()"
   ]
  },
  {
   "cell_type": "markdown",
   "id": "162a4da0",
   "metadata": {},
   "source": [
    "# 2. 전처리"
   ]
  },
  {
   "cell_type": "markdown",
   "id": "c6e0dfcc",
   "metadata": {},
   "source": [
    "ratings_souce와 item_features_source라는 iterable 객체가 필요하다. \n",
    "먼저 전자는 LightFM Dataset class의 build_interactions 메서드의 재료로 활용되며, \n",
    "후자의 경우 build_item_features의 재료가 된다. "
   ]
  },
  {
   "cell_type": "code",
   "execution_count": 5,
   "id": "76588c42",
   "metadata": {},
   "outputs": [],
   "source": [
    "import pandas as pd\n",
    "from lightfm.data import Dataset\n",
    "from scipy.io import mmwrite\n",
    "\n",
    "ratings_source = [(ratings['UserID'][i], ratings['MovieID'][i]) for i in range(ratings.shape[0])]\n",
    "\n",
    "item_meta = pd.merge(movies, \n",
    "                     ratings.groupby('MovieID').mean().reset_index()[['MovieID','Rating']], \n",
    "                     on='MovieID', how='left')\n",
    "item_meta = item_meta.reset_index()\n",
    "\n",
    "item_meta.Rating = item_meta.Rating.fillna(0)\n",
    "item_features_source = [(item_meta['MovieID'][i],\n",
    "                        [item_meta['Title'][i],\n",
    "                         item_meta['Rating'][i]]) for i in range(item_meta.shape[0])]"
   ]
  },
  {
   "cell_type": "markdown",
   "id": "a6a1d0d1",
   "metadata": {},
   "source": [
    "items 와 features를 매핑 (argument로 들어가는 객체에 결측값은 없어야 합니다.)"
   ]
  },
  {
   "cell_type": "code",
   "execution_count": 6,
   "id": "6f8e1cec",
   "metadata": {},
   "outputs": [
    {
     "data": {
      "text/html": [
       "<div>\n",
       "<style scoped>\n",
       "    .dataframe tbody tr th:only-of-type {\n",
       "        vertical-align: middle;\n",
       "    }\n",
       "\n",
       "    .dataframe tbody tr th {\n",
       "        vertical-align: top;\n",
       "    }\n",
       "\n",
       "    .dataframe thead th {\n",
       "        text-align: right;\n",
       "    }\n",
       "</style>\n",
       "<table border=\"1\" class=\"dataframe\">\n",
       "  <thead>\n",
       "    <tr style=\"text-align: right;\">\n",
       "      <th></th>\n",
       "      <th>index</th>\n",
       "      <th>MovieID</th>\n",
       "      <th>Title</th>\n",
       "      <th>Genres</th>\n",
       "      <th>Rating</th>\n",
       "    </tr>\n",
       "  </thead>\n",
       "  <tbody>\n",
       "  </tbody>\n",
       "</table>\n",
       "</div>"
      ],
      "text/plain": [
       "Empty DataFrame\n",
       "Columns: [index, MovieID, Title, Genres, Rating]\n",
       "Index: []"
      ]
     },
     "execution_count": 6,
     "metadata": {},
     "output_type": "execute_result"
    }
   ],
   "source": [
    "item_meta[item_meta.Rating.isna()]"
   ]
  },
  {
   "cell_type": "code",
   "execution_count": 7,
   "id": "09fa1a5b",
   "metadata": {},
   "outputs": [
    {
     "data": {
      "text/html": [
       "<div>\n",
       "<style scoped>\n",
       "    .dataframe tbody tr th:only-of-type {\n",
       "        vertical-align: middle;\n",
       "    }\n",
       "\n",
       "    .dataframe tbody tr th {\n",
       "        vertical-align: top;\n",
       "    }\n",
       "\n",
       "    .dataframe thead th {\n",
       "        text-align: right;\n",
       "    }\n",
       "</style>\n",
       "<table border=\"1\" class=\"dataframe\">\n",
       "  <thead>\n",
       "    <tr style=\"text-align: right;\">\n",
       "      <th></th>\n",
       "      <th>index</th>\n",
       "      <th>MovieID</th>\n",
       "      <th>Title</th>\n",
       "      <th>Genres</th>\n",
       "      <th>Rating</th>\n",
       "    </tr>\n",
       "  </thead>\n",
       "  <tbody>\n",
       "    <tr>\n",
       "      <th>50</th>\n",
       "      <td>50</td>\n",
       "      <td>51</td>\n",
       "      <td>Guardian Angel (1994)</td>\n",
       "      <td>Action|Drama|Thriller</td>\n",
       "      <td>0.0</td>\n",
       "    </tr>\n",
       "    <tr>\n",
       "      <th>107</th>\n",
       "      <td>107</td>\n",
       "      <td>109</td>\n",
       "      <td>Headless Body in Topless Bar (1995)</td>\n",
       "      <td>Comedy</td>\n",
       "      <td>0.0</td>\n",
       "    </tr>\n",
       "    <tr>\n",
       "      <th>113</th>\n",
       "      <td>113</td>\n",
       "      <td>115</td>\n",
       "      <td>Happiness Is in the Field (1995)</td>\n",
       "      <td>Comedy</td>\n",
       "      <td>0.0</td>\n",
       "    </tr>\n",
       "    <tr>\n",
       "      <th>141</th>\n",
       "      <td>141</td>\n",
       "      <td>143</td>\n",
       "      <td>Gospa (1995)</td>\n",
       "      <td>Drama</td>\n",
       "      <td>0.0</td>\n",
       "    </tr>\n",
       "    <tr>\n",
       "      <th>281</th>\n",
       "      <td>281</td>\n",
       "      <td>284</td>\n",
       "      <td>New York Cop (1996)</td>\n",
       "      <td>Action|Crime</td>\n",
       "      <td>0.0</td>\n",
       "    </tr>\n",
       "    <tr>\n",
       "      <th>...</th>\n",
       "      <td>...</td>\n",
       "      <td>...</td>\n",
       "      <td>...</td>\n",
       "      <td>...</td>\n",
       "      <td>...</td>\n",
       "    </tr>\n",
       "    <tr>\n",
       "      <th>3581</th>\n",
       "      <td>3581</td>\n",
       "      <td>3650</td>\n",
       "      <td>Anguish (Angustia) (1986)</td>\n",
       "      <td>Horror</td>\n",
       "      <td>0.0</td>\n",
       "    </tr>\n",
       "    <tr>\n",
       "      <th>3681</th>\n",
       "      <td>3681</td>\n",
       "      <td>3750</td>\n",
       "      <td>Boricua's Bond (2000)</td>\n",
       "      <td>Drama</td>\n",
       "      <td>0.0</td>\n",
       "    </tr>\n",
       "    <tr>\n",
       "      <th>3759</th>\n",
       "      <td>3759</td>\n",
       "      <td>3829</td>\n",
       "      <td>Mad About Mambo (2000)</td>\n",
       "      <td>Comedy|Romance</td>\n",
       "      <td>0.0</td>\n",
       "    </tr>\n",
       "    <tr>\n",
       "      <th>3786</th>\n",
       "      <td>3786</td>\n",
       "      <td>3856</td>\n",
       "      <td>Autumn Heart (1999)</td>\n",
       "      <td>Drama</td>\n",
       "      <td>0.0</td>\n",
       "    </tr>\n",
       "    <tr>\n",
       "      <th>3837</th>\n",
       "      <td>3837</td>\n",
       "      <td>3907</td>\n",
       "      <td>Prince of Central Park, The (1999)</td>\n",
       "      <td>Drama</td>\n",
       "      <td>0.0</td>\n",
       "    </tr>\n",
       "  </tbody>\n",
       "</table>\n",
       "<p>177 rows × 5 columns</p>\n",
       "</div>"
      ],
      "text/plain": [
       "      index  MovieID                                Title  \\\n",
       "50       50       51                Guardian Angel (1994)   \n",
       "107     107      109  Headless Body in Topless Bar (1995)   \n",
       "113     113      115     Happiness Is in the Field (1995)   \n",
       "141     141      143                         Gospa (1995)   \n",
       "281     281      284                  New York Cop (1996)   \n",
       "...     ...      ...                                  ...   \n",
       "3581   3581     3650            Anguish (Angustia) (1986)   \n",
       "3681   3681     3750                Boricua's Bond (2000)   \n",
       "3759   3759     3829               Mad About Mambo (2000)   \n",
       "3786   3786     3856                  Autumn Heart (1999)   \n",
       "3837   3837     3907   Prince of Central Park, The (1999)   \n",
       "\n",
       "                     Genres  Rating  \n",
       "50    Action|Drama|Thriller     0.0  \n",
       "107                  Comedy     0.0  \n",
       "113                  Comedy     0.0  \n",
       "141                   Drama     0.0  \n",
       "281            Action|Crime     0.0  \n",
       "...                     ...     ...  \n",
       "3581                 Horror     0.0  \n",
       "3681                  Drama     0.0  \n",
       "3759         Comedy|Romance     0.0  \n",
       "3786                  Drama     0.0  \n",
       "3837                  Drama     0.0  \n",
       "\n",
       "[177 rows x 5 columns]"
      ]
     },
     "execution_count": 7,
     "metadata": {},
     "output_type": "execute_result"
    }
   ],
   "source": [
    "item_meta[item_meta.Rating == 0]"
   ]
  },
  {
   "cell_type": "code",
   "execution_count": 8,
   "id": "37478649",
   "metadata": {},
   "outputs": [
    {
     "data": {
      "text/html": [
       "<div>\n",
       "<style scoped>\n",
       "    .dataframe tbody tr th:only-of-type {\n",
       "        vertical-align: middle;\n",
       "    }\n",
       "\n",
       "    .dataframe tbody tr th {\n",
       "        vertical-align: top;\n",
       "    }\n",
       "\n",
       "    .dataframe thead th {\n",
       "        text-align: right;\n",
       "    }\n",
       "</style>\n",
       "<table border=\"1\" class=\"dataframe\">\n",
       "  <thead>\n",
       "    <tr style=\"text-align: right;\">\n",
       "      <th></th>\n",
       "      <th>index</th>\n",
       "      <th>MovieID</th>\n",
       "      <th>Title</th>\n",
       "      <th>Genres</th>\n",
       "      <th>Rating</th>\n",
       "    </tr>\n",
       "  </thead>\n",
       "  <tbody>\n",
       "    <tr>\n",
       "      <th>0</th>\n",
       "      <td>0</td>\n",
       "      <td>1</td>\n",
       "      <td>Toy Story (1995)</td>\n",
       "      <td>Animation|Children's|Comedy</td>\n",
       "      <td>4.146846</td>\n",
       "    </tr>\n",
       "    <tr>\n",
       "      <th>1</th>\n",
       "      <td>1</td>\n",
       "      <td>2</td>\n",
       "      <td>Jumanji (1995)</td>\n",
       "      <td>Adventure|Children's|Fantasy</td>\n",
       "      <td>3.201141</td>\n",
       "    </tr>\n",
       "    <tr>\n",
       "      <th>2</th>\n",
       "      <td>2</td>\n",
       "      <td>3</td>\n",
       "      <td>Grumpier Old Men (1995)</td>\n",
       "      <td>Comedy|Romance</td>\n",
       "      <td>3.016736</td>\n",
       "    </tr>\n",
       "    <tr>\n",
       "      <th>3</th>\n",
       "      <td>3</td>\n",
       "      <td>4</td>\n",
       "      <td>Waiting to Exhale (1995)</td>\n",
       "      <td>Comedy|Drama</td>\n",
       "      <td>2.729412</td>\n",
       "    </tr>\n",
       "    <tr>\n",
       "      <th>4</th>\n",
       "      <td>4</td>\n",
       "      <td>5</td>\n",
       "      <td>Father of the Bride Part II (1995)</td>\n",
       "      <td>Comedy</td>\n",
       "      <td>3.006757</td>\n",
       "    </tr>\n",
       "    <tr>\n",
       "      <th>...</th>\n",
       "      <td>...</td>\n",
       "      <td>...</td>\n",
       "      <td>...</td>\n",
       "      <td>...</td>\n",
       "      <td>...</td>\n",
       "    </tr>\n",
       "    <tr>\n",
       "      <th>3878</th>\n",
       "      <td>3878</td>\n",
       "      <td>3948</td>\n",
       "      <td>Meet the Parents (2000)</td>\n",
       "      <td>Comedy</td>\n",
       "      <td>3.635731</td>\n",
       "    </tr>\n",
       "    <tr>\n",
       "      <th>3879</th>\n",
       "      <td>3879</td>\n",
       "      <td>3949</td>\n",
       "      <td>Requiem for a Dream (2000)</td>\n",
       "      <td>Drama</td>\n",
       "      <td>4.115132</td>\n",
       "    </tr>\n",
       "    <tr>\n",
       "      <th>3880</th>\n",
       "      <td>3880</td>\n",
       "      <td>3950</td>\n",
       "      <td>Tigerland (2000)</td>\n",
       "      <td>Drama</td>\n",
       "      <td>3.666667</td>\n",
       "    </tr>\n",
       "    <tr>\n",
       "      <th>3881</th>\n",
       "      <td>3881</td>\n",
       "      <td>3951</td>\n",
       "      <td>Two Family House (2000)</td>\n",
       "      <td>Drama</td>\n",
       "      <td>3.900000</td>\n",
       "    </tr>\n",
       "    <tr>\n",
       "      <th>3882</th>\n",
       "      <td>3882</td>\n",
       "      <td>3952</td>\n",
       "      <td>Contender, The (2000)</td>\n",
       "      <td>Drama|Thriller</td>\n",
       "      <td>3.780928</td>\n",
       "    </tr>\n",
       "  </tbody>\n",
       "</table>\n",
       "<p>3883 rows × 5 columns</p>\n",
       "</div>"
      ],
      "text/plain": [
       "      index  MovieID                               Title  \\\n",
       "0         0        1                    Toy Story (1995)   \n",
       "1         1        2                      Jumanji (1995)   \n",
       "2         2        3             Grumpier Old Men (1995)   \n",
       "3         3        4            Waiting to Exhale (1995)   \n",
       "4         4        5  Father of the Bride Part II (1995)   \n",
       "...     ...      ...                                 ...   \n",
       "3878   3878     3948             Meet the Parents (2000)   \n",
       "3879   3879     3949          Requiem for a Dream (2000)   \n",
       "3880   3880     3950                    Tigerland (2000)   \n",
       "3881   3881     3951             Two Family House (2000)   \n",
       "3882   3882     3952               Contender, The (2000)   \n",
       "\n",
       "                            Genres    Rating  \n",
       "0      Animation|Children's|Comedy  4.146846  \n",
       "1     Adventure|Children's|Fantasy  3.201141  \n",
       "2                   Comedy|Romance  3.016736  \n",
       "3                     Comedy|Drama  2.729412  \n",
       "4                           Comedy  3.006757  \n",
       "...                            ...       ...  \n",
       "3878                        Comedy  3.635731  \n",
       "3879                         Drama  4.115132  \n",
       "3880                         Drama  3.666667  \n",
       "3881                         Drama  3.900000  \n",
       "3882                Drama|Thriller  3.780928  \n",
       "\n",
       "[3883 rows x 5 columns]"
      ]
     },
     "execution_count": 8,
     "metadata": {},
     "output_type": "execute_result"
    }
   ],
   "source": [
    "item_meta"
   ]
  },
  {
   "cell_type": "code",
   "execution_count": 9,
   "id": "d9ca92af",
   "metadata": {},
   "outputs": [],
   "source": [
    "dataset = Dataset()\n",
    "dataset.fit(users=ratings['UserID'].unique(),\n",
    "            items=item_meta['MovieID'].unique(),\n",
    "            item_features=item_meta[item_meta.columns[1:]].values.flatten()\n",
    "            )"
   ]
  },
  {
   "cell_type": "code",
   "execution_count": 10,
   "id": "3a370a6c",
   "metadata": {},
   "outputs": [
    {
     "data": {
      "text/html": [
       "<div>\n",
       "<style scoped>\n",
       "    .dataframe tbody tr th:only-of-type {\n",
       "        vertical-align: middle;\n",
       "    }\n",
       "\n",
       "    .dataframe tbody tr th {\n",
       "        vertical-align: top;\n",
       "    }\n",
       "\n",
       "    .dataframe thead th {\n",
       "        text-align: right;\n",
       "    }\n",
       "</style>\n",
       "<table border=\"1\" class=\"dataframe\">\n",
       "  <thead>\n",
       "    <tr style=\"text-align: right;\">\n",
       "      <th></th>\n",
       "      <th>index</th>\n",
       "      <th>MovieID</th>\n",
       "      <th>Title</th>\n",
       "      <th>Genres</th>\n",
       "      <th>Rating</th>\n",
       "    </tr>\n",
       "  </thead>\n",
       "  <tbody>\n",
       "    <tr>\n",
       "      <th>0</th>\n",
       "      <td>0</td>\n",
       "      <td>1</td>\n",
       "      <td>Toy Story (1995)</td>\n",
       "      <td>Animation|Children's|Comedy</td>\n",
       "      <td>4.146846</td>\n",
       "    </tr>\n",
       "    <tr>\n",
       "      <th>1</th>\n",
       "      <td>1</td>\n",
       "      <td>2</td>\n",
       "      <td>Jumanji (1995)</td>\n",
       "      <td>Adventure|Children's|Fantasy</td>\n",
       "      <td>3.201141</td>\n",
       "    </tr>\n",
       "    <tr>\n",
       "      <th>2</th>\n",
       "      <td>2</td>\n",
       "      <td>3</td>\n",
       "      <td>Grumpier Old Men (1995)</td>\n",
       "      <td>Comedy|Romance</td>\n",
       "      <td>3.016736</td>\n",
       "    </tr>\n",
       "    <tr>\n",
       "      <th>3</th>\n",
       "      <td>3</td>\n",
       "      <td>4</td>\n",
       "      <td>Waiting to Exhale (1995)</td>\n",
       "      <td>Comedy|Drama</td>\n",
       "      <td>2.729412</td>\n",
       "    </tr>\n",
       "    <tr>\n",
       "      <th>4</th>\n",
       "      <td>4</td>\n",
       "      <td>5</td>\n",
       "      <td>Father of the Bride Part II (1995)</td>\n",
       "      <td>Comedy</td>\n",
       "      <td>3.006757</td>\n",
       "    </tr>\n",
       "    <tr>\n",
       "      <th>...</th>\n",
       "      <td>...</td>\n",
       "      <td>...</td>\n",
       "      <td>...</td>\n",
       "      <td>...</td>\n",
       "      <td>...</td>\n",
       "    </tr>\n",
       "    <tr>\n",
       "      <th>3878</th>\n",
       "      <td>3878</td>\n",
       "      <td>3948</td>\n",
       "      <td>Meet the Parents (2000)</td>\n",
       "      <td>Comedy</td>\n",
       "      <td>3.635731</td>\n",
       "    </tr>\n",
       "    <tr>\n",
       "      <th>3879</th>\n",
       "      <td>3879</td>\n",
       "      <td>3949</td>\n",
       "      <td>Requiem for a Dream (2000)</td>\n",
       "      <td>Drama</td>\n",
       "      <td>4.115132</td>\n",
       "    </tr>\n",
       "    <tr>\n",
       "      <th>3880</th>\n",
       "      <td>3880</td>\n",
       "      <td>3950</td>\n",
       "      <td>Tigerland (2000)</td>\n",
       "      <td>Drama</td>\n",
       "      <td>3.666667</td>\n",
       "    </tr>\n",
       "    <tr>\n",
       "      <th>3881</th>\n",
       "      <td>3881</td>\n",
       "      <td>3951</td>\n",
       "      <td>Two Family House (2000)</td>\n",
       "      <td>Drama</td>\n",
       "      <td>3.900000</td>\n",
       "    </tr>\n",
       "    <tr>\n",
       "      <th>3882</th>\n",
       "      <td>3882</td>\n",
       "      <td>3952</td>\n",
       "      <td>Contender, The (2000)</td>\n",
       "      <td>Drama|Thriller</td>\n",
       "      <td>3.780928</td>\n",
       "    </tr>\n",
       "  </tbody>\n",
       "</table>\n",
       "<p>3883 rows × 5 columns</p>\n",
       "</div>"
      ],
      "text/plain": [
       "      index  MovieID                               Title  \\\n",
       "0         0        1                    Toy Story (1995)   \n",
       "1         1        2                      Jumanji (1995)   \n",
       "2         2        3             Grumpier Old Men (1995)   \n",
       "3         3        4            Waiting to Exhale (1995)   \n",
       "4         4        5  Father of the Bride Part II (1995)   \n",
       "...     ...      ...                                 ...   \n",
       "3878   3878     3948             Meet the Parents (2000)   \n",
       "3879   3879     3949          Requiem for a Dream (2000)   \n",
       "3880   3880     3950                    Tigerland (2000)   \n",
       "3881   3881     3951             Two Family House (2000)   \n",
       "3882   3882     3952               Contender, The (2000)   \n",
       "\n",
       "                            Genres    Rating  \n",
       "0      Animation|Children's|Comedy  4.146846  \n",
       "1     Adventure|Children's|Fantasy  3.201141  \n",
       "2                   Comedy|Romance  3.016736  \n",
       "3                     Comedy|Drama  2.729412  \n",
       "4                           Comedy  3.006757  \n",
       "...                            ...       ...  \n",
       "3878                        Comedy  3.635731  \n",
       "3879                         Drama  4.115132  \n",
       "3880                         Drama  3.666667  \n",
       "3881                         Drama  3.900000  \n",
       "3882                Drama|Thriller  3.780928  \n",
       "\n",
       "[3883 rows x 5 columns]"
      ]
     },
     "execution_count": 10,
     "metadata": {},
     "output_type": "execute_result"
    }
   ],
   "source": [
    "item_meta"
   ]
  },
  {
   "cell_type": "markdown",
   "id": "f71cb4d9",
   "metadata": {},
   "source": [
    "build를 실행 하여 데이터셋 완성/저장 (희소행렬)"
   ]
  },
  {
   "cell_type": "code",
   "execution_count": 11,
   "id": "6797fc3f",
   "metadata": {},
   "outputs": [],
   "source": [
    "interactions, weights = dataset.build_interactions(ratings_source)\n",
    "item_features = dataset.build_item_features(item_features_source)\n",
    "\n",
    "# Save\n",
    "mmwrite('/Users/nhn/Desktop/1_dev/0_aiengine/3_jupyter/lightFM/interactions.mtx', interactions)\n",
    "mmwrite('/Users/nhn/Desktop/1_dev/0_aiengine/3_jupyter/lightFM/item_features.mtx', item_features)\n",
    "mmwrite('/Users/nhn/Desktop/1_dev/0_aiengine/3_jupyter/lightFM/weights.mtx', weights)"
   ]
  },
  {
   "cell_type": "markdown",
   "id": "83b7a158",
   "metadata": {},
   "source": [
    "# 3. Hyper Parameter 최적화"
   ]
  },
  {
   "cell_type": "markdown",
   "id": "919f403f",
   "metadata": {},
   "source": [
    "- no_components, learning_rate 대상 진행\n",
    "- precision 기준 가장 높은 갚을 선정"
   ]
  },
  {
   "cell_type": "code",
   "execution_count": 12,
   "id": "2f847ad7",
   "metadata": {},
   "outputs": [],
   "source": [
    "from lightfm import cross_validation as CV\n",
    "\n",
    "# Split Train, Test data\n",
    "train, test = CV.random_train_test_split(interactions, test_percentage=0.2)\n",
    "train, test = train.tocsr().tocoo(), test.tocsr().tocoo()\n",
    "train_weights = train.multiply(weights).tocoo()"
   ]
  },
  {
   "cell_type": "code",
   "execution_count": 18,
   "id": "6c9a8c26",
   "metadata": {},
   "outputs": [
    {
     "name": "stdout",
     "output_type": "stream",
     "text": [
      "Collecting hyperopt\n",
      "  Using cached hyperopt-0.2.7-py2.py3-none-any.whl (1.6 MB)\n",
      "Requirement already satisfied: numpy in /opt/homebrew/Caskroom/miniforge/base/envs/test/lib/python3.8/site-packages (from hyperopt) (1.22.3)\n",
      "Requirement already satisfied: cloudpickle in /opt/homebrew/Caskroom/miniforge/base/envs/test/lib/python3.8/site-packages (from hyperopt) (2.0.0)\n",
      "Requirement already satisfied: tqdm in /opt/homebrew/Caskroom/miniforge/base/envs/test/lib/python3.8/site-packages (from hyperopt) (4.63.0)\n",
      "Requirement already satisfied: six in /opt/homebrew/Caskroom/miniforge/base/envs/test/lib/python3.8/site-packages (from hyperopt) (1.16.0)\n",
      "Requirement already satisfied: future in /opt/homebrew/Caskroom/miniforge/base/envs/test/lib/python3.8/site-packages (from hyperopt) (0.18.2)\n",
      "Collecting py4j\n",
      "  Downloading py4j-0.10.9.5-py2.py3-none-any.whl (199 kB)\n",
      "\u001b[2K     \u001b[90m━━━━━━━━━━━━━━━━━━━━━━━━━━━━━━━━━━━━━━━\u001b[0m \u001b[32m199.7/199.7 KB\u001b[0m \u001b[31m5.3 MB/s\u001b[0m eta \u001b[36m0:00:00\u001b[0m00:01\u001b[0m\n",
      "\u001b[?25hCollecting networkx>=2.2\n",
      "  Downloading networkx-2.8.4-py3-none-any.whl (2.0 MB)\n",
      "\u001b[2K     \u001b[90m━━━━━━━━━━━━━━━━━━━━━━━━━━━━━━━━━━━━━━━━\u001b[0m \u001b[32m2.0/2.0 MB\u001b[0m \u001b[31m9.9 MB/s\u001b[0m eta \u001b[36m0:00:00\u001b[0m:00:01\u001b[0m00:01\u001b[0m\n",
      "\u001b[?25hRequirement already satisfied: scipy in /opt/homebrew/Caskroom/miniforge/base/envs/test/lib/python3.8/site-packages (from hyperopt) (1.8.0)\n",
      "Installing collected packages: py4j, networkx, hyperopt\n",
      "Successfully installed hyperopt-0.2.7 networkx-2.8.4 py4j-0.10.9.5\n"
     ]
    }
   ],
   "source": [
    "!pip3 install hyperopt\n",
    "from hyperopt import fmin, hp, tpe, Trials\n",
    "\n",
    "# Define Search Space\n",
    "trials = Trials()\n",
    "\n",
    "epochs_list = range(3, 6)\n",
    "no_components_list = range(10, 50, 10)\n",
    "space = [hp.choice('epochs', epochs_list),\n",
    "         hp.choice('no_components', no_components_list),\n",
    "         hp.uniform('learning_rate', 0.01, 0.05)]"
   ]
  },
  {
   "cell_type": "code",
   "execution_count": 19,
   "id": "b4beb719",
   "metadata": {},
   "outputs": [],
   "source": [
    "from lightfm import LightFM\n",
    "from lightfm import evaluation as EVAL\n",
    "\n",
    "# Define Objective Function\n",
    "def objective(params):\n",
    "    epochs, no_components, learning_rate = params\n",
    "\n",
    "    model = LightFM(no_components=no_components,\n",
    "                    learning_schedule='adagrad',\n",
    "                    loss='warp',\n",
    "                    learning_rate=learning_rate,\n",
    "                    random_state=0)\n",
    "\n",
    "    model.fit(interactions=train,\n",
    "              item_features=item_features,\n",
    "              sample_weight=train_weights,\n",
    "              epochs=epochs,\n",
    "              verbose=False)\n",
    "    \n",
    "    # 모델에 대한 k 메트릭에서 정밀도. 순위가 매겨진 결과 목록의 처음 k 위치에서 알려진 양성 비율입니다. 만점은 1.0입니다.\n",
    "    test_precision = EVAL.precision_at_k(model, test, k=5, \n",
    "                                         item_features=item_features).mean()\n",
    "    print(\"no_comp: {}, lrn_rate: {:.5f}, precision: {:.5f}\".format(\n",
    "      no_components, learning_rate, test_precision))\n",
    "    # test_auc = auc_score(model, test, item_features=item_features).mean()\n",
    "    output = -test_precision\n",
    "\n",
    "    if np.abs(output+1) < 0.01 or output < -1.0:\n",
    "        output = 0.0\n",
    "\n",
    "    return output"
   ]
  },
  {
   "cell_type": "code",
   "execution_count": 20,
   "id": "2e0b6189",
   "metadata": {},
   "outputs": [
    {
     "name": "stdout",
     "output_type": "stream",
     "text": [
      "no_comp: 10, lrn_rate: 0.01398, precision: 0.10053                                                                                                                                                                                                   \n",
      "no_comp: 10, lrn_rate: 0.01033, precision: 0.10027                                                                                                                                                                                                   \n",
      "no_comp: 20, lrn_rate: 0.04762, precision: 0.12781                                                                                                                                                                                                   \n",
      "no_comp: 30, lrn_rate: 0.03004, precision: 0.12377                                                                                                                                                                                                   \n",
      "no_comp: 40, lrn_rate: 0.02973, precision: 0.12900                                                                                                                                                                                                   \n",
      "no_comp: 20, lrn_rate: 0.04247, precision: 0.12569                                                                                                                                                                                                   \n",
      "no_comp: 30, lrn_rate: 0.02897, precision: 0.12194                                                                                                                                                                                                   \n",
      "no_comp: 10, lrn_rate: 0.02280, precision: 0.10822                                                                                                                                                                                                   \n",
      "no_comp: 40, lrn_rate: 0.04621, precision: 0.13301                                                                                                                                                                                                   \n",
      "no_comp: 20, lrn_rate: 0.04244, precision: 0.12880                                                                                                                                                                                                   \n",
      "100%|████████████████████████████████████████████████████████████████████████████████████████████████████████████████████████████████████████████████████████████████████████████| 10/10 [01:06<00:00,  6.69s/trial, best loss: -0.13301293551921844]\n"
     ]
    }
   ],
   "source": [
    "best_params = fmin(fn=objective, space=space, algo=tpe.suggest, max_evals=10, trials=trials)"
   ]
  },
  {
   "cell_type": "code",
   "execution_count": 21,
   "id": "68622324",
   "metadata": {},
   "outputs": [
    {
     "data": {
      "text/plain": [
       "{'epochs': 2, 'learning_rate': 0.046210081165994746, 'no_components': 3}"
      ]
     },
     "execution_count": 21,
     "metadata": {},
     "output_type": "execute_result"
    }
   ],
   "source": [
    "best_params"
   ]
  },
  {
   "cell_type": "markdown",
   "id": "5ad16635",
   "metadata": {},
   "source": [
    "# 4. 결과 확인"
   ]
  },
  {
   "attachments": {
    "image.png": {
     "image/png": "[encoded data removed]"
    }
   },
   "cell_type": "markdown",
   "id": "7c8c9190",
   "metadata": {},
   "source": [
    "- 코사인 유사도를 활용 동일 백터에 있는 상위 상품 추천\n",
    "두 벡터가 가리키는 방향이 얼마나 유사한가\n",
    "![image.png](attachment:image.png)"
   ]
  },
  {
   "cell_type": "code",
   "execution_count": 22,
   "id": "a38096c5",
   "metadata": {},
   "outputs": [
    {
     "data": {
      "text/plain": [
       "0.9074022"
      ]
     },
     "execution_count": 22,
     "metadata": {},
     "output_type": "execute_result"
    }
   ],
   "source": [
    "model = LightFM(no_components=no_components_list[best_params['no_components']],\n",
    "                learning_schedule='adagrad',\n",
    "                loss='warp',\n",
    "                learning_rate=best_params['learning_rate'],\n",
    "                random_state=0)\n",
    "\n",
    "model.fit(interactions=train,\n",
    "          item_features=item_features,\n",
    "          sample_weight=train_weights,\n",
    "          epochs=epochs_list[1],\n",
    "          verbose=False)\n",
    "\n",
    "EVAL.auc_score(model, test, item_features=item_features).mean()"
   ]
  },
  {
   "cell_type": "code",
   "execution_count": 23,
   "id": "861d6636",
   "metadata": {},
   "outputs": [
    {
     "name": "stderr",
     "output_type": "stream",
     "text": [
      "/var/folders/_2/9zwdysb90f1_vz3zpxqvhg5r0000gn/T/ipykernel_15117/1915503240.py:29: FutureWarning: The frame.append method is deprecated and will be removed from pandas in a future version. Use pandas.concat instead.\n",
      "  best_items = best_items.append(row, ignore_index=True)\n",
      "/var/folders/_2/9zwdysb90f1_vz3zpxqvhg5r0000gn/T/ipykernel_15117/1915503240.py:29: FutureWarning: The frame.append method is deprecated and will be removed from pandas in a future version. Use pandas.concat instead.\n",
      "  best_items = best_items.append(row, ignore_index=True)\n",
      "/var/folders/_2/9zwdysb90f1_vz3zpxqvhg5r0000gn/T/ipykernel_15117/1915503240.py:29: FutureWarning: The frame.append method is deprecated and will be removed from pandas in a future version. Use pandas.concat instead.\n",
      "  best_items = best_items.append(row, ignore_index=True)\n",
      "/var/folders/_2/9zwdysb90f1_vz3zpxqvhg5r0000gn/T/ipykernel_15117/1915503240.py:29: FutureWarning: The frame.append method is deprecated and will be removed from pandas in a future version. Use pandas.concat instead.\n",
      "  best_items = best_items.append(row, ignore_index=True)\n",
      "/var/folders/_2/9zwdysb90f1_vz3zpxqvhg5r0000gn/T/ipykernel_15117/1915503240.py:29: FutureWarning: The frame.append method is deprecated and will be removed from pandas in a future version. Use pandas.concat instead.\n",
      "  best_items = best_items.append(row, ignore_index=True)\n",
      "/var/folders/_2/9zwdysb90f1_vz3zpxqvhg5r0000gn/T/ipykernel_15117/1915503240.py:29: FutureWarning: The frame.append method is deprecated and will be removed from pandas in a future version. Use pandas.concat instead.\n",
      "  best_items = best_items.append(row, ignore_index=True)\n",
      "/var/folders/_2/9zwdysb90f1_vz3zpxqvhg5r0000gn/T/ipykernel_15117/1915503240.py:29: FutureWarning: The frame.append method is deprecated and will be removed from pandas in a future version. Use pandas.concat instead.\n",
      "  best_items = best_items.append(row, ignore_index=True)\n",
      "/var/folders/_2/9zwdysb90f1_vz3zpxqvhg5r0000gn/T/ipykernel_15117/1915503240.py:29: FutureWarning: The frame.append method is deprecated and will be removed from pandas in a future version. Use pandas.concat instead.\n",
      "  best_items = best_items.append(row, ignore_index=True)\n",
      "/var/folders/_2/9zwdysb90f1_vz3zpxqvhg5r0000gn/T/ipykernel_15117/1915503240.py:29: FutureWarning: The frame.append method is deprecated and will be removed from pandas in a future version. Use pandas.concat instead.\n",
      "  best_items = best_items.append(row, ignore_index=True)\n",
      "/var/folders/_2/9zwdysb90f1_vz3zpxqvhg5r0000gn/T/ipykernel_15117/1915503240.py:29: FutureWarning: The frame.append method is deprecated and will be removed from pandas in a future version. Use pandas.concat instead.\n",
      "  best_items = best_items.append(row, ignore_index=True)\n",
      "/var/folders/_2/9zwdysb90f1_vz3zpxqvhg5r0000gn/T/ipykernel_15117/1915503240.py:29: FutureWarning: The frame.append method is deprecated and will be removed from pandas in a future version. Use pandas.concat instead.\n",
      "  best_items = best_items.append(row, ignore_index=True)\n",
      "/var/folders/_2/9zwdysb90f1_vz3zpxqvhg5r0000gn/T/ipykernel_15117/1915503240.py:29: FutureWarning: The frame.append method is deprecated and will be removed from pandas in a future version. Use pandas.concat instead.\n",
      "  best_items = best_items.append(row, ignore_index=True)\n",
      "/var/folders/_2/9zwdysb90f1_vz3zpxqvhg5r0000gn/T/ipykernel_15117/1915503240.py:29: FutureWarning: The frame.append method is deprecated and will be removed from pandas in a future version. Use pandas.concat instead.\n",
      "  best_items = best_items.append(row, ignore_index=True)\n",
      "/var/folders/_2/9zwdysb90f1_vz3zpxqvhg5r0000gn/T/ipykernel_15117/1915503240.py:29: FutureWarning: The frame.append method is deprecated and will be removed from pandas in a future version. Use pandas.concat instead.\n",
      "  best_items = best_items.append(row, ignore_index=True)\n",
      "/var/folders/_2/9zwdysb90f1_vz3zpxqvhg5r0000gn/T/ipykernel_15117/1915503240.py:29: FutureWarning: The frame.append method is deprecated and will be removed from pandas in a future version. Use pandas.concat instead.\n",
      "  best_items = best_items.append(row, ignore_index=True)\n",
      "/var/folders/_2/9zwdysb90f1_vz3zpxqvhg5r0000gn/T/ipykernel_15117/1915503240.py:29: FutureWarning: The frame.append method is deprecated and will be removed from pandas in a future version. Use pandas.concat instead.\n",
      "  best_items = best_items.append(row, ignore_index=True)\n",
      "/var/folders/_2/9zwdysb90f1_vz3zpxqvhg5r0000gn/T/ipykernel_15117/1915503240.py:29: FutureWarning: The frame.append method is deprecated and will be removed from pandas in a future version. Use pandas.concat instead.\n",
      "  best_items = best_items.append(row, ignore_index=True)\n",
      "/var/folders/_2/9zwdysb90f1_vz3zpxqvhg5r0000gn/T/ipykernel_15117/1915503240.py:29: FutureWarning: The frame.append method is deprecated and will be removed from pandas in a future version. Use pandas.concat instead.\n",
      "  best_items = best_items.append(row, ignore_index=True)\n",
      "/var/folders/_2/9zwdysb90f1_vz3zpxqvhg5r0000gn/T/ipykernel_15117/1915503240.py:29: FutureWarning: The frame.append method is deprecated and will be removed from pandas in a future version. Use pandas.concat instead.\n",
      "  best_items = best_items.append(row, ignore_index=True)\n",
      "/var/folders/_2/9zwdysb90f1_vz3zpxqvhg5r0000gn/T/ipykernel_15117/1915503240.py:29: FutureWarning: The frame.append method is deprecated and will be removed from pandas in a future version. Use pandas.concat instead.\n",
      "  best_items = best_items.append(row, ignore_index=True)\n"
     ]
    }
   ],
   "source": [
    "# Find Similar Items\n",
    "item_biases, item_embeddings = model.get_item_representations(features=item_features)\n",
    "\n",
    "def make_best_items_report(item_embeddings, MovieID, num_search_items=10):\n",
    "    item_id = item_meta[item_meta['MovieID'] == MovieID].index[0]\n",
    "\n",
    "    # Cosine similarity\n",
    "    scores = item_embeddings.dot(item_embeddings[item_id])  # (10000, )\n",
    "    item_norms = np.linalg.norm(item_embeddings, axis=1)    # (10000, )\n",
    "    item_norms[item_norms == 0] = 1e-10\n",
    "    scores /= item_norms\n",
    "    \n",
    "    # best: score가 제일 높은 item의 id를 num_search_items 개 만큼 가져온다.\n",
    "    best = np.argpartition(scores, -num_search_items)[-num_search_items:]\n",
    "    similar_item_id_and_scores = sorted(zip(best, scores[best] / item_norms[item_id]),\n",
    "                                        key=lambda x: -x[1])\n",
    "\n",
    "    \n",
    "    \n",
    "    # Report를 작성할 pandas dataframe\n",
    "    best_items = pd.DataFrame(columns=['MovieID', 'Title', 'Genres', 'score'])\n",
    "    for similar_item_id, score in similar_item_id_and_scores:\n",
    "        try:\n",
    "            MovieID = item_meta[item_meta['index'] == similar_item_id].values[0][1]\n",
    "            Title = item_meta[item_meta['index'] == similar_item_id].values[0][2]\n",
    "            Genres = item_meta[item_meta['index'] == similar_item_id].values[0][3]\n",
    "\n",
    "            row = pd.Series([MovieID, Title, Genres, score], index=best_items.columns)\n",
    "            best_items = best_items.append(row, ignore_index=True)\n",
    "        except Exception:\n",
    "            return best_items\n",
    "    return best_items\n",
    "\n",
    "report01 = make_best_items_report(item_embeddings, 1253, 10)\n",
    "report02 = make_best_items_report(item_embeddings, 284, 10)"
   ]
  },
  {
   "cell_type": "code",
   "execution_count": 24,
   "id": "0cdad61b",
   "metadata": {},
   "outputs": [
    {
     "data": {
      "text/html": [
       "<div>\n",
       "<style scoped>\n",
       "    .dataframe tbody tr th:only-of-type {\n",
       "        vertical-align: middle;\n",
       "    }\n",
       "\n",
       "    .dataframe tbody tr th {\n",
       "        vertical-align: top;\n",
       "    }\n",
       "\n",
       "    .dataframe thead th {\n",
       "        text-align: right;\n",
       "    }\n",
       "</style>\n",
       "<table border=\"1\" class=\"dataframe\">\n",
       "  <thead>\n",
       "    <tr style=\"text-align: right;\">\n",
       "      <th></th>\n",
       "      <th>MovieID</th>\n",
       "      <th>Title</th>\n",
       "      <th>Genres</th>\n",
       "      <th>score</th>\n",
       "    </tr>\n",
       "  </thead>\n",
       "  <tbody>\n",
       "    <tr>\n",
       "      <th>0</th>\n",
       "      <td>1253</td>\n",
       "      <td>Day the Earth Stood Still, The (1951)</td>\n",
       "      <td>Drama|Sci-Fi</td>\n",
       "      <td>1.0</td>\n",
       "    </tr>\n",
       "    <tr>\n",
       "      <th>1</th>\n",
       "      <td>1301</td>\n",
       "      <td>Forbidden Planet (1956)</td>\n",
       "      <td>Sci-Fi</td>\n",
       "      <td>0.937573</td>\n",
       "    </tr>\n",
       "    <tr>\n",
       "      <th>2</th>\n",
       "      <td>674</td>\n",
       "      <td>Barbarella (1968)</td>\n",
       "      <td>Adventure|Sci-Fi</td>\n",
       "      <td>0.928843</td>\n",
       "    </tr>\n",
       "    <tr>\n",
       "      <th>3</th>\n",
       "      <td>3927</td>\n",
       "      <td>Fantastic Voyage (1966)</td>\n",
       "      <td>Adventure|Sci-Fi</td>\n",
       "      <td>0.926581</td>\n",
       "    </tr>\n",
       "    <tr>\n",
       "      <th>4</th>\n",
       "      <td>2010</td>\n",
       "      <td>Metropolis (1926)</td>\n",
       "      <td>Sci-Fi</td>\n",
       "      <td>0.920701</td>\n",
       "    </tr>\n",
       "    <tr>\n",
       "      <th>5</th>\n",
       "      <td>2664</td>\n",
       "      <td>Invasion of the Body Snatchers (1956)</td>\n",
       "      <td>Horror|Sci-Fi</td>\n",
       "      <td>0.919019</td>\n",
       "    </tr>\n",
       "    <tr>\n",
       "      <th>6</th>\n",
       "      <td>2009</td>\n",
       "      <td>Soylent Green (1973)</td>\n",
       "      <td>Sci-Fi|Thriller</td>\n",
       "      <td>0.911674</td>\n",
       "    </tr>\n",
       "    <tr>\n",
       "      <th>7</th>\n",
       "      <td>2287</td>\n",
       "      <td>Them! (1954)</td>\n",
       "      <td>Sci-Fi|Thriller|War</td>\n",
       "      <td>0.907782</td>\n",
       "    </tr>\n",
       "    <tr>\n",
       "      <th>8</th>\n",
       "      <td>1019</td>\n",
       "      <td>20,000 Leagues Under the Sea (1954)</td>\n",
       "      <td>Adventure|Children's|Fantasy|Sci-Fi</td>\n",
       "      <td>0.89853</td>\n",
       "    </tr>\n",
       "    <tr>\n",
       "      <th>9</th>\n",
       "      <td>2662</td>\n",
       "      <td>War of the Worlds, The (1953)</td>\n",
       "      <td>Action|Sci-Fi|War</td>\n",
       "      <td>0.878597</td>\n",
       "    </tr>\n",
       "  </tbody>\n",
       "</table>\n",
       "</div>"
      ],
      "text/plain": [
       "  MovieID                                  Title  \\\n",
       "0    1253  Day the Earth Stood Still, The (1951)   \n",
       "1    1301                Forbidden Planet (1956)   \n",
       "2     674                      Barbarella (1968)   \n",
       "3    3927                Fantastic Voyage (1966)   \n",
       "4    2010                      Metropolis (1926)   \n",
       "5    2664  Invasion of the Body Snatchers (1956)   \n",
       "6    2009                   Soylent Green (1973)   \n",
       "7    2287                           Them! (1954)   \n",
       "8    1019    20,000 Leagues Under the Sea (1954)   \n",
       "9    2662          War of the Worlds, The (1953)   \n",
       "\n",
       "                                Genres     score  \n",
       "0                         Drama|Sci-Fi       1.0  \n",
       "1                               Sci-Fi  0.937573  \n",
       "2                     Adventure|Sci-Fi  0.928843  \n",
       "3                     Adventure|Sci-Fi  0.926581  \n",
       "4                               Sci-Fi  0.920701  \n",
       "5                        Horror|Sci-Fi  0.919019  \n",
       "6                      Sci-Fi|Thriller  0.911674  \n",
       "7                  Sci-Fi|Thriller|War  0.907782  \n",
       "8  Adventure|Children's|Fantasy|Sci-Fi   0.89853  \n",
       "9                    Action|Sci-Fi|War  0.878597  "
      ]
     },
     "execution_count": 24,
     "metadata": {},
     "output_type": "execute_result"
    }
   ],
   "source": [
    "report01"
   ]
  },
  {
   "cell_type": "code",
   "execution_count": 25,
   "id": "b5ce89b0",
   "metadata": {},
   "outputs": [
    {
     "data": {
      "text/html": [
       "<div>\n",
       "<style scoped>\n",
       "    .dataframe tbody tr th:only-of-type {\n",
       "        vertical-align: middle;\n",
       "    }\n",
       "\n",
       "    .dataframe tbody tr th {\n",
       "        vertical-align: top;\n",
       "    }\n",
       "\n",
       "    .dataframe thead th {\n",
       "        text-align: right;\n",
       "    }\n",
       "</style>\n",
       "<table border=\"1\" class=\"dataframe\">\n",
       "  <thead>\n",
       "    <tr style=\"text-align: right;\">\n",
       "      <th></th>\n",
       "      <th>MovieID</th>\n",
       "      <th>Title</th>\n",
       "      <th>Genres</th>\n",
       "      <th>score</th>\n",
       "    </tr>\n",
       "  </thead>\n",
       "  <tbody>\n",
       "    <tr>\n",
       "      <th>0</th>\n",
       "      <td>284</td>\n",
       "      <td>New York Cop (1996)</td>\n",
       "      <td>Action|Crime</td>\n",
       "      <td>1.0</td>\n",
       "    </tr>\n",
       "    <tr>\n",
       "      <th>1</th>\n",
       "      <td>855</td>\n",
       "      <td>Every Other Weekend (1990)</td>\n",
       "      <td>Drama</td>\n",
       "      <td>0.999435</td>\n",
       "    </tr>\n",
       "    <tr>\n",
       "      <th>2</th>\n",
       "      <td>1065</td>\n",
       "      <td>Woman in Question, The (1950)</td>\n",
       "      <td>Mystery</td>\n",
       "      <td>0.999226</td>\n",
       "    </tr>\n",
       "    <tr>\n",
       "      <th>3</th>\n",
       "      <td>3907</td>\n",
       "      <td>Prince of Central Park, The (1999)</td>\n",
       "      <td>Drama</td>\n",
       "      <td>0.999218</td>\n",
       "    </tr>\n",
       "    <tr>\n",
       "      <th>4</th>\n",
       "      <td>772</td>\n",
       "      <td>Quartier Mozart (1992)</td>\n",
       "      <td>Comedy</td>\n",
       "      <td>0.999149</td>\n",
       "    </tr>\n",
       "    <tr>\n",
       "      <th>5</th>\n",
       "      <td>2910</td>\n",
       "      <td>Ennui, L' (1998)</td>\n",
       "      <td>Drama|Romance</td>\n",
       "      <td>0.999114</td>\n",
       "    </tr>\n",
       "    <tr>\n",
       "      <th>6</th>\n",
       "      <td>2680</td>\n",
       "      <td>Floating (1997)</td>\n",
       "      <td>Drama</td>\n",
       "      <td>0.999074</td>\n",
       "    </tr>\n",
       "    <tr>\n",
       "      <th>7</th>\n",
       "      <td>1789</td>\n",
       "      <td>Sadness of Sex, The (1995)</td>\n",
       "      <td>Drama</td>\n",
       "      <td>0.999052</td>\n",
       "    </tr>\n",
       "    <tr>\n",
       "      <th>8</th>\n",
       "      <td>1108</td>\n",
       "      <td>Prerokbe Ognja (1995)</td>\n",
       "      <td>Documentary</td>\n",
       "      <td>0.999051</td>\n",
       "    </tr>\n",
       "    <tr>\n",
       "      <th>9</th>\n",
       "      <td>1159</td>\n",
       "      <td>Love in Bloom (1935)</td>\n",
       "      <td>Romance</td>\n",
       "      <td>0.99895</td>\n",
       "    </tr>\n",
       "  </tbody>\n",
       "</table>\n",
       "</div>"
      ],
      "text/plain": [
       "  MovieID                               Title         Genres     score\n",
       "0     284                 New York Cop (1996)   Action|Crime       1.0\n",
       "1     855          Every Other Weekend (1990)          Drama  0.999435\n",
       "2    1065       Woman in Question, The (1950)        Mystery  0.999226\n",
       "3    3907  Prince of Central Park, The (1999)          Drama  0.999218\n",
       "4     772              Quartier Mozart (1992)         Comedy  0.999149\n",
       "5    2910                    Ennui, L' (1998)  Drama|Romance  0.999114\n",
       "6    2680                     Floating (1997)          Drama  0.999074\n",
       "7    1789          Sadness of Sex, The (1995)          Drama  0.999052\n",
       "8    1108               Prerokbe Ognja (1995)    Documentary  0.999051\n",
       "9    1159                Love in Bloom (1935)        Romance   0.99895"
      ]
     },
     "execution_count": 25,
     "metadata": {},
     "output_type": "execute_result"
    }
   ],
   "source": [
    "report02"
   ]
  },
  {
   "cell_type": "code",
   "execution_count": 26,
   "id": "45f84b4e",
   "metadata": {},
   "outputs": [
    {
     "data": {
      "text/plain": [
       "array([[ 3.4013024e-01,  2.6280323e-01,  5.7247221e-01, ...,\n",
       "         4.9104694e-01,  3.8283952e-02,  3.2692063e-01],\n",
       "       [ 1.9004837e-01,  3.0682570e-01,  2.4553026e-01, ...,\n",
       "         2.2019413e-01, -1.6316207e-01, -2.6519054e-01],\n",
       "       [ 6.4962938e-02,  3.8785204e-02,  2.5589192e-01, ...,\n",
       "         1.4802037e-01, -3.0823037e-01, -2.0921947e-01],\n",
       "       ...,\n",
       "       [-5.6910276e-02, -7.5633109e-02, -1.8680748e-01, ...,\n",
       "        -5.3508122e-02,  3.8529915e-01,  7.9822563e-02],\n",
       "       [-3.0377316e-01, -2.6838836e-01, -3.9843619e-01, ...,\n",
       "        -2.3423749e-01,  6.5828550e-01,  1.8741129e-02],\n",
       "       [ 8.7741926e-02,  7.4737507e-04, -2.9589570e-01, ...,\n",
       "        -3.3378915e-04,  9.0175337e-01,  6.0153794e-02]], dtype=float32)"
      ]
     },
     "execution_count": 26,
     "metadata": {},
     "output_type": "execute_result"
    }
   ],
   "source": [
    "item_embeddings"
   ]
  },
  {
   "cell_type": "code",
   "execution_count": 27,
   "id": "fd160e6c",
   "metadata": {},
   "outputs": [
    {
     "data": {
      "text/plain": [
       "array([2.627037 , 1.821604 , 1.5324291, ..., 0.8605919, 1.700507 ,\n",
       "       1.6351967], dtype=float32)"
      ]
     },
     "execution_count": 27,
     "metadata": {},
     "output_type": "execute_result"
    }
   ],
   "source": [
    "np.linalg.norm(item_embeddings, axis=1)"
   ]
  },
  {
   "cell_type": "code",
   "execution_count": 28,
   "id": "c22c269b",
   "metadata": {},
   "outputs": [
    {
     "data": {
      "text/plain": [
       "array([2.627037 , 1.821604 , 1.5324291, ..., 0.8605919, 1.700507 ,\n",
       "       1.6351967], dtype=float32)"
      ]
     },
     "execution_count": 28,
     "metadata": {},
     "output_type": "execute_result"
    }
   ],
   "source": [
    "a=np.linalg.norm(item_embeddings, axis=1)\n",
    "a[a == 0] = 1e-10\n",
    "a"
   ]
  },
  {
   "cell_type": "code",
   "execution_count": 29,
   "id": "274e7f7f",
   "metadata": {},
   "outputs": [
    {
     "data": {
      "text/plain": [
       "array([ 3.4164689 ,  3.3182414 ,  1.8800198 , ..., -0.95654196,\n",
       "       -2.076911  , -0.7031105 ], dtype=float32)"
      ]
     },
     "execution_count": 29,
     "metadata": {},
     "output_type": "execute_result"
    }
   ],
   "source": [
    "item_embeddings.dot(item_embeddings[1])"
   ]
  },
  {
   "cell_type": "code",
   "execution_count": 30,
   "id": "dd8a8f07",
   "metadata": {},
   "outputs": [
    {
     "data": {
      "text/plain": [
       "array([ 1.3005028 ,  1.8216041 ,  1.2268233 , ..., -1.1114931 ,\n",
       "       -1.221348  , -0.42998528], dtype=float32)"
      ]
     },
     "execution_count": 30,
     "metadata": {},
     "output_type": "execute_result"
    }
   ],
   "source": [
    "item_embeddings.dot(item_embeddings[1])/a"
   ]
  },
  {
   "cell_type": "code",
   "execution_count": 31,
   "id": "5b4fcd43",
   "metadata": {},
   "outputs": [
    {
     "data": {
      "text/plain": [
       "array([[ 3.40130240e-01,  2.62803227e-01,  5.72472215e-01, ...,\n",
       "         4.91046935e-01,  3.82839516e-02,  3.26920629e-01],\n",
       "       [ 1.90048367e-01,  3.06825697e-01,  2.45530263e-01, ...,\n",
       "         2.20194131e-01, -1.63162068e-01, -2.65190542e-01],\n",
       "       [ 6.49629384e-02,  3.87852043e-02,  2.55891919e-01, ...,\n",
       "         1.48020372e-01, -3.08230370e-01, -2.09219471e-01],\n",
       "       ...,\n",
       "       [-5.69102764e-02, -7.56331086e-02, -1.86807483e-01, ...,\n",
       "        -5.35081215e-02,  3.85299146e-01,  7.98225626e-02],\n",
       "       [-3.03773165e-01, -2.68388361e-01, -3.98436189e-01, ...,\n",
       "        -2.34237492e-01,  6.58285499e-01,  1.87411290e-02],\n",
       "       [ 8.77419263e-02,  7.47375074e-04, -2.95895696e-01, ...,\n",
       "        -3.33789154e-04,  9.01753366e-01,  6.01537935e-02]])"
      ]
     },
     "execution_count": 31,
     "metadata": {},
     "output_type": "execute_result"
    }
   ],
   "source": [
    "item_embeddings.dot(1)"
   ]
  },
  {
   "cell_type": "markdown",
   "id": "c2fbe905",
   "metadata": {},
   "source": [
    "# 1. 데이터 불러오기\n",
    "- user_features 반영 predic 활용 예시"
   ]
  },
  {
   "cell_type": "code",
   "execution_count": 32,
   "id": "a71ce29b",
   "metadata": {},
   "outputs": [
    {
     "name": "stderr",
     "output_type": "stream",
     "text": [
      "/var/folders/_2/9zwdysb90f1_vz3zpxqvhg5r0000gn/T/ipykernel_15117/2534540706.py:2: ParserWarning: Falling back to the 'python' engine because the 'c' engine does not support regex separators (separators > 1 char and different from '\\s+' are interpreted as regex); you can avoid this warning by specifying engine='python'.\n",
      "  users = pd.read_csv('/Users/nhn/Desktop/1_dev/0_aiengine/4_data/ml-1m/users.dat',sep=\"::\",\n"
     ]
    }
   ],
   "source": [
    "# Data Load\n",
    "users = pd.read_csv('/Users/nhn/Desktop/1_dev/0_aiengine/4_data/ml-1m/users.dat',sep=\"::\",\n",
    "                      names=['UserID','Gender','Age','Occupation','Zip-code'], header=None\n",
    ")"
   ]
  },
  {
   "cell_type": "code",
   "execution_count": 33,
   "id": "a6958844",
   "metadata": {},
   "outputs": [
    {
     "name": "stdout",
     "output_type": "stream",
     "text": [
      "6040\n"
     ]
    },
    {
     "data": {
      "text/html": [
       "<div>\n",
       "<style scoped>\n",
       "    .dataframe tbody tr th:only-of-type {\n",
       "        vertical-align: middle;\n",
       "    }\n",
       "\n",
       "    .dataframe tbody tr th {\n",
       "        vertical-align: top;\n",
       "    }\n",
       "\n",
       "    .dataframe thead th {\n",
       "        text-align: right;\n",
       "    }\n",
       "</style>\n",
       "<table border=\"1\" class=\"dataframe\">\n",
       "  <thead>\n",
       "    <tr style=\"text-align: right;\">\n",
       "      <th></th>\n",
       "      <th>UserID</th>\n",
       "      <th>Gender</th>\n",
       "      <th>Age</th>\n",
       "      <th>Occupation</th>\n",
       "      <th>Zip-code</th>\n",
       "    </tr>\n",
       "  </thead>\n",
       "  <tbody>\n",
       "    <tr>\n",
       "      <th>0</th>\n",
       "      <td>1</td>\n",
       "      <td>F</td>\n",
       "      <td>1</td>\n",
       "      <td>10</td>\n",
       "      <td>48067</td>\n",
       "    </tr>\n",
       "    <tr>\n",
       "      <th>1</th>\n",
       "      <td>2</td>\n",
       "      <td>M</td>\n",
       "      <td>56</td>\n",
       "      <td>16</td>\n",
       "      <td>70072</td>\n",
       "    </tr>\n",
       "    <tr>\n",
       "      <th>2</th>\n",
       "      <td>3</td>\n",
       "      <td>M</td>\n",
       "      <td>25</td>\n",
       "      <td>15</td>\n",
       "      <td>55117</td>\n",
       "    </tr>\n",
       "    <tr>\n",
       "      <th>3</th>\n",
       "      <td>4</td>\n",
       "      <td>M</td>\n",
       "      <td>45</td>\n",
       "      <td>7</td>\n",
       "      <td>02460</td>\n",
       "    </tr>\n",
       "    <tr>\n",
       "      <th>4</th>\n",
       "      <td>5</td>\n",
       "      <td>M</td>\n",
       "      <td>25</td>\n",
       "      <td>20</td>\n",
       "      <td>55455</td>\n",
       "    </tr>\n",
       "  </tbody>\n",
       "</table>\n",
       "</div>"
      ],
      "text/plain": [
       "   UserID Gender  Age  Occupation Zip-code\n",
       "0       1      F    1          10    48067\n",
       "1       2      M   56          16    70072\n",
       "2       3      M   25          15    55117\n",
       "3       4      M   45           7    02460\n",
       "4       5      M   25          20    55455"
      ]
     },
     "execution_count": 33,
     "metadata": {},
     "output_type": "execute_result"
    }
   ],
   "source": [
    "print(users.count()[0])\n",
    "users.head()"
   ]
  },
  {
   "cell_type": "markdown",
   "id": "29873a25",
   "metadata": {},
   "source": [
    "# 2. 전처리\n",
    "- user_features_source iterable 객체의 경우 build_user_features의 재료가 된다."
   ]
  },
  {
   "cell_type": "code",
   "execution_count": 34,
   "id": "fc44aae2",
   "metadata": {},
   "outputs": [],
   "source": [
    "user_features_source = [(users['UserID'][i],\n",
    "             [users['Gender'][i],\n",
    "              users['Age'][i],\n",
    "              users['Occupation'][i],\n",
    "              users['Zip-code'][i]]\n",
    "             ) for i in range(users.shape[0])]"
   ]
  },
  {
   "cell_type": "markdown",
   "id": "fe68b5fb",
   "metadata": {},
   "source": [
    "users/items 와 features를 매핑 (argument로 들어가는 객체에 결측값은 없어야 합니다.)"
   ]
  },
  {
   "cell_type": "code",
   "execution_count": 35,
   "id": "80e799cd",
   "metadata": {},
   "outputs": [],
   "source": [
    "dataset = Dataset()\n",
    "dataset.fit(users=ratings['UserID'].unique(),\n",
    "            items=item_meta['MovieID'].unique(),\n",
    "            item_features=item_meta[item_meta.columns[1:]].values.flatten(),\n",
    "            user_features=users[users.columns[1:]].values.flatten()\n",
    "            )"
   ]
  },
  {
   "cell_type": "markdown",
   "id": "dbd3dc35",
   "metadata": {},
   "source": [
    "build를 실행 하여 데이터셋 완성/저장"
   ]
  },
  {
   "cell_type": "code",
   "execution_count": 36,
   "id": "58e199f8",
   "metadata": {},
   "outputs": [],
   "source": [
    "interactions, weights = dataset.build_interactions(ratings_source)\n",
    "user_features = dataset.build_user_features(user_features_source)\n",
    "item_features = dataset.build_item_features(item_features_source)\n",
    "\n",
    "\n",
    "# Save\n",
    "mmwrite('/Users/nhn/Desktop/1_dev/0_aiengine/3_jupyter/lightFM/interactions.mtx', interactions)\n",
    "mmwrite('/Users/nhn/Desktop/1_dev/0_aiengine/3_jupyter/lightFM/item_features.mtx', item_features)\n",
    "mmwrite('/Users/nhn/Desktop/1_dev/0_aiengine/3_jupyter/lightFM/user_features.mtx', user_features)\n",
    "mmwrite('/Users/nhn/Desktop/1_dev/0_aiengine/3_jupyter/lightFM/weights.mtx', weights)"
   ]
  },
  {
   "cell_type": "markdown",
   "id": "25ab7f8e",
   "metadata": {},
   "source": [
    "# 3. Hyper Parameter 최적화"
   ]
  },
  {
   "cell_type": "code",
   "execution_count": 37,
   "id": "e655f886",
   "metadata": {},
   "outputs": [],
   "source": [
    "from lightfm import cross_validation as CV\n",
    "\n",
    "# Split Train, Test data\n",
    "train, test = CV.random_train_test_split(interactions, test_percentage=0.2)\n",
    "train, test = train.tocsr().tocoo(), test.tocsr().tocoo()\n",
    "train_weights = train.multiply(weights).tocoo()"
   ]
  },
  {
   "cell_type": "code",
   "execution_count": 38,
   "id": "e250864e",
   "metadata": {},
   "outputs": [],
   "source": [
    "# !pip3 install hyperopt\n",
    "from hyperopt import fmin, hp, tpe, Trials\n",
    "\n",
    "# Define Search Space\n",
    "trials = Trials()\n",
    "\n",
    "epochs_list = range(3, 6)\n",
    "no_components_list = range(10, 50, 10)\n",
    "space = [hp.choice('epochs', epochs_list),\n",
    "         hp.choice('no_components', range(10, 50, 10)),\n",
    "         hp.uniform('learning_rate', 0.01, 0.05)]"
   ]
  },
  {
   "cell_type": "code",
   "execution_count": 39,
   "id": "4c5dd2a6",
   "metadata": {},
   "outputs": [],
   "source": [
    "from lightfm import LightFM\n",
    "from lightfm import evaluation as EVAL\n",
    "\n",
    "# Define Objective Function\n",
    "def objective(params):\n",
    "    epochs, no_components, learning_rate = params\n",
    "    \n",
    "    model = LightFM(no_components=no_components,\n",
    "                    learning_schedule='adagrad',\n",
    "                    loss='warp',\n",
    "                    learning_rate=learning_rate,\n",
    "                    random_state=0)\n",
    "\n",
    "    model.fit(interactions=train,\n",
    "              item_features=item_features,\n",
    "              user_features=user_features,\n",
    "              sample_weight=train_weights,\n",
    "              epochs=epochs,\n",
    "              verbose=False)\n",
    "\n",
    "    test_precision = EVAL.precision_at_k(model, test, k=5, \n",
    "                                         item_features=item_features, \n",
    "                                         user_features=user_features).mean()\n",
    "    print(\"epochs {}, no_comp: {}, lrn_rate: {:.5f}, precision: {:.5f}\".format(\n",
    "        epochs, no_components, learning_rate, test_precision))\n",
    "    # test_auc = auc_score(model, test, item_features=item_features).mean()\n",
    "    output = -test_precision\n",
    "\n",
    "    if np.abs(output+1) < 0.01 or output < -1.0:\n",
    "        output = 0.0\n",
    "\n",
    "    return output"
   ]
  },
  {
   "cell_type": "code",
   "execution_count": 40,
   "id": "b1160632",
   "metadata": {},
   "outputs": [
    {
     "name": "stdout",
     "output_type": "stream",
     "text": [
      "epochs 4, no_comp: 40, lrn_rate: 0.02987, precision: 0.10485                                                                                                                                                                                         \n",
      "epochs 3, no_comp: 30, lrn_rate: 0.04551, precision: 0.10525                                                                                                                                                                                         \n",
      "epochs 5, no_comp: 30, lrn_rate: 0.01480, precision: 0.10075                                                                                                                                                                                         \n",
      "epochs 3, no_comp: 20, lrn_rate: 0.02690, precision: 0.10303                                                                                                                                                                                         \n",
      "epochs 5, no_comp: 10, lrn_rate: 0.03696, precision: 0.10336                                                                                                                                                                                         \n",
      "epochs 4, no_comp: 20, lrn_rate: 0.04405, precision: 0.10724                                                                                                                                                                                         \n",
      "epochs 5, no_comp: 10, lrn_rate: 0.01216, precision: 0.09786                                                                                                                                                                                         \n",
      "epochs 5, no_comp: 30, lrn_rate: 0.03717, precision: 0.10780                                                                                                                                                                                         \n",
      "epochs 4, no_comp: 10, lrn_rate: 0.04358, precision: 0.10485                                                                                                                                                                                         \n",
      "epochs 3, no_comp: 20, lrn_rate: 0.04122, precision: 0.10257                                                                                                                                                                                         \n",
      "100%|█████████████████████████████████████████████████████████████████████████████████████████████████████████████████████████████████████████████████████████████████████████████| 10/10 [01:10<00:00,  7.03s/trial, best loss: -0.1078018993139267]\n"
     ]
    }
   ],
   "source": [
    "best_params = fmin(fn=objective, space=space, algo=tpe.suggest, max_evals=10, trials=trials)"
   ]
  },
  {
   "cell_type": "code",
   "execution_count": 41,
   "id": "54d3e771",
   "metadata": {},
   "outputs": [
    {
     "data": {
      "text/plain": [
       "0.8748074"
      ]
     },
     "execution_count": 41,
     "metadata": {},
     "output_type": "execute_result"
    }
   ],
   "source": [
    "model = LightFM(no_components=no_components_list[best_params['no_components']],\n",
    "                learning_schedule='adagrad',\n",
    "                loss='warp',\n",
    "                learning_rate=best_params['learning_rate'],\n",
    "                random_state=0)\n",
    "\n",
    "model.fit(interactions=train,\n",
    "          item_features=item_features,\n",
    "          user_features=user_features,\n",
    "          sample_weight=train_weights,\n",
    "          epochs=epochs_list[best_params['epochs']],\n",
    "          verbose=False)\n",
    "\n",
    "EVAL.auc_score(model, test, item_features=item_features, user_features=user_features).mean()"
   ]
  },
  {
   "cell_type": "code",
   "execution_count": 42,
   "id": "c6e28180",
   "metadata": {},
   "outputs": [
    {
     "data": {
      "text/plain": [
       "array([-45.80132 , -47.561813, -47.864815, ..., -49.457443, -49.602253,\n",
       "       -47.659817], dtype=float32)"
      ]
     },
     "execution_count": 42,
     "metadata": {},
     "output_type": "execute_result"
    }
   ],
   "source": [
    "# user id 3에 영화를 추천할 경우 예측점수\n",
    "model.predict(3, item_meta['index'].unique(),\n",
    "          item_features=item_features,\n",
    "          user_features=user_features)"
   ]
  },
  {
   "cell_type": "code",
   "execution_count": 43,
   "id": "cb7df506",
   "metadata": {},
   "outputs": [
    {
     "data": {
      "text/plain": [
       "array([-37.002586, -47.008274, -47.864815, ..., -24.537657, -46.3489  ,\n",
       "       -44.4258  ], dtype=float32)"
      ]
     },
     "execution_count": 43,
     "metadata": {},
     "output_type": "execute_result"
    }
   ],
   "source": [
    "# 복수 사용자에게 영화 추천 예측점수\n",
    "# predict 사용 시 user와 item의 배열 크기는 동일해야 함.\n",
    "# user[1,2,3] , item[a,b,c] -> prdict[1-a, 2-b, 3-c]\n",
    "model.predict(ratings['UserID'].unique()[:3700], item_meta['index'].unique()[0:3700],item_features=item_features,\n",
    "          user_features=user_features)"
   ]
  },
  {
   "cell_type": "code",
   "execution_count": 44,
   "id": "302a3ec8",
   "metadata": {},
   "outputs": [
    {
     "data": {
      "text/plain": [
       "array([-37.788223, -47.866848, -46.94158 , ..., -21.753967, -45.212006,\n",
       "       -42.445744], dtype=float32)"
      ]
     },
     "execution_count": 44,
     "metadata": {},
     "output_type": "execute_result"
    }
   ],
   "source": [
    "# movie id 3468 을 복수 사용자에게 추천할 경우 예측점수\n",
    "model.predict(ratings['UserID'].unique()[:3700], \n",
    "              [item_meta[item_meta['MovieID'] == 3468].index[0]] * 3700,\n",
    "              item_features=item_features,\n",
    "              user_features=user_features)"
   ]
  },
  {
   "cell_type": "code",
   "execution_count": 45,
   "id": "58515805",
   "metadata": {},
   "outputs": [
    {
     "data": {
      "text/plain": [
       "6040"
      ]
     },
     "execution_count": 45,
     "metadata": {},
     "output_type": "execute_result"
    }
   ],
   "source": [
    "len(ratings['UserID'].unique())"
   ]
  },
  {
   "cell_type": "code",
   "execution_count": 46,
   "id": "9592d141",
   "metadata": {},
   "outputs": [
    {
     "data": {
      "text/plain": [
       "3883"
      ]
     },
     "execution_count": 46,
     "metadata": {},
     "output_type": "execute_result"
    }
   ],
   "source": [
    "len(item_meta['MovieID'].unique())"
   ]
  },
  {
   "cell_type": "code",
   "execution_count": null,
   "id": "f4239405",
   "metadata": {},
   "outputs": [],
   "source": []
  }
 ],
 "metadata": {
  "kernelspec": {
   "display_name": "Python 3 (ipykernel)",
   "language": "python",
   "name": "python3"
  },
  "language_info": {
   "codemirror_mode": {
    "name": "ipython",
    "version": 3
   },
   "file_extension": ".py",
   "mimetype": "text/x-python",
   "name": "python",
   "nbconvert_exporter": "python",
   "pygments_lexer": "ipython3",
   "version": "3.8.12"
  }
 },
 "nbformat": 4,
 "nbformat_minor": 5
}
